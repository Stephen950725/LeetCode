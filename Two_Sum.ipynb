{
  "nbformat": 4,
  "nbformat_minor": 0,
  "metadata": {
    "colab": {
      "provenance": []
    },
    "kernelspec": {
      "name": "python3",
      "display_name": "Python 3"
    },
    "language_info": {
      "name": "python"
    }
  },
  "cells": [
    {
      "cell_type": "code",
      "execution_count": 3,
      "metadata": {
        "id": "fsvjKOVHaCvP",
        "colab": {
          "base_uri": "https://localhost:8080/"
        },
        "outputId": "e60c7d76-a7df-4a0f-9fa2-5279e8a647a8"
      },
      "outputs": [
        {
          "output_type": "stream",
          "name": "stdout",
          "text": [
            "[0, 1]\n"
          ]
        }
      ],
      "source": [
        "nums = [2,7,11,15]\n",
        "target = 9\n",
        "complement ={}\n",
        "for i, num in enumerate(nums):\n",
        "  complement[num]=i\n",
        "for i, num in enumerate(nums):\n",
        "  num2 = target-num\n",
        "  if num2 in complement:\n",
        "    j = complement[num2]\n",
        "    if i < j:\n",
        "      print([i, j])\n",
        ""
      ]
    }
  ]
}